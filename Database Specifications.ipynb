{
 "cells": [
  {
   "cell_type": "markdown",
   "metadata": {},
   "source": [
    "# Secrets\n",
    "\n",
    "> Server IP: `sql181.main-hosting.eu` (`46.17.175.1`)   \n",
    "> Server Port: `3306`  \n",
    "> Database Name: `u606982933_red1`, `u606982933_red2`, `u606982933_red3`  \n",
    "> Server Username: `u606982933_red1`, `u606982933_red2`, `u606982933_red3`  \n",
    "> Server Password: `F4nd0m5.C0nnec7`  \n",
    "\n",
    "This is the information about the databases."
   ]
  },
  {
   "cell_type": "markdown",
   "metadata": {},
   "source": [
    "# Schema\n",
    "\n",
    "All databases can have one, the other or both. Basically, look for a table called `Comments` or `Submissions`.\n",
    "\n",
    "## `Comments` Schema\n",
    "\n",
    "* **ID** is a Unique Reddit Comment ID (Example: `eng4e6i`) stored a `string`.\n",
    "* **Parent** is a Unique Reddit Comment ID (Example: `eng4e6i`) stored a `string`. It is blank if it is a top-level comment.\n",
    "* **Submission** is a Unique Reddit Submission ID (Example: `cep1a8`) stored a `string`. It is the submission the comment belongs to.\n",
    "* **Score** is a `int` integer number representing the aggregate of upvotes and downvotes for this comment.\n",
    "* **Author** is a Reddit Username (Example: `aytimothy`) stored a `string`. It is the author of the comment.\n",
    "* **Timestamp** is a Unix Timestamp (Example: `0` for Epoch Time) stored as a `float`. It is the timestamp at which the comment was made.\n",
    "* **Body** is the `string` contents of the comment.\n",
    "\n",
    "The submission should exist in the Submissions database.\n",
    "\n",
    "## `Submissions` Schema\n",
    "\n",
    "* **ID** is a Unique Reddit Submission ID (Example: `cep1a8`) stored as a `string`.\n",
    "* **Subreddit** is the `string` name of the subreddit the submission was posted to.\n",
    "* **Is Text** is a `bool` value. If true, it is a text post. Otherwise, it is a link post.\n",
    "* **Title** is a `string` name of the post. All submissions have one.\n",
    "* **Is Crosspost** is a `bool` value. If true, it was stolen from somewhere else and is a crosspost.\n",
    "* **Source** is a Unique Reddit Submission ID (Example: `cep1a8`) stored as a `string`. It is present if this post is a cross-post.\n",
    "* **Link** is a `string` value of the URL that this link post links to. It is empty if this is a text or cross- post.\n",
    "* **Body** is a `string` value of the text in this post. It is empty if this is a link or cross- post.\n",
    "* **Score** is a `int` integer number representing the aggregate of upvotes and downvotes for this submission.\n",
    "* **Author** is a Reddit Username (Example: `aytimothy`) stored a `string`. It is the author of the comment.\n",
    "* **Timestamp** is a Unix Timestamp (Example: `0` for Epoch Time) stored as a `float`. It is the timestamp at which the comment was made."
   ]
  },
  {
   "cell_type": "markdown",
   "metadata": {},
   "source": [
    "There is a setup script at `/collection/db_setup.py`."
   ]
  }
 ],
 "metadata": {
  "kernelspec": {
   "display_name": "Python 3",
   "language": "python",
   "name": "python3"
  },
  "language_info": {
   "codemirror_mode": {
    "name": "ipython",
    "version": 3
   },
   "file_extension": ".py",
   "mimetype": "text/x-python",
   "name": "python",
   "nbconvert_exporter": "python",
   "pygments_lexer": "ipython3",
   "version": "3.7.3"
  }
 },
 "nbformat": 4,
 "nbformat_minor": 2
}
