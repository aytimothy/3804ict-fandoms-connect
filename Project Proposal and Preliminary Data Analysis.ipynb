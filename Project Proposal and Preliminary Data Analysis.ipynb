{
 "cells": [
  {
   "cell_type": "markdown",
   "metadata": {},
   "source": [
    "# 3804ICT Fandoms Connect\n",
    "\n",
    "This document contains the project proposal and preliminary data analysis."
   ]
  },
  {
   "cell_type": "markdown",
   "metadata": {},
   "source": [
    "## Preface\n",
    "\n",
    "Thanks to the internet and the rise of internet message boards to the wider public such as Reddit, 4chan and not Newsgroups, the past 5 years have never been a better time for fans of pop-culture and interest groups to connect with one another. However, despite the internet being interconnected and everything out in the open, there is still the tendency for groups of people to clump up or join the same set of groups (which is still clumping up).\n",
    "\n",
    "The aim of the investigation is to see what percentage of users belong to which fandoms, and how different fandoms overlap or avoid each other. For example: Do Digimon fans also interact with those who also like Pokémon, and vice versa<sup>[1]</sup>?\n",
    "\n",
    "In order to gather the data, first, uses are aggregated and posts are scraped of Reddit using the Reddit API<sup>[2]</sup>. Using the raw post data of [parent, user, score, subreddit, content], we can then clean it into a machine-usable state by using text analysis to build our database of data points. Before processing, we can already see content by their authors, communities posted to and upvotes. From there, we can look at the comments to see what is being mentioned where. Keywords, for example such as Pokémon names can be used to signify that a person knows about, well, Pokémon.\n",
    "\n",
    "In order to work out how likely a person from a fandom is part or knows about another, we can emply methods such as k-Nearest Neighbours, Decision Trees and Support Vector Machines to class users into their fandoms, and, to work out (theatrically) where new users may sit within the multi-dimensions of different fandoms. \n"
   ]
  },
  {
   "cell_type": "markdown",
   "metadata": {},
   "source": [
    "## Preliminary Data Analysis\n",
    "\n",
    "> Note: The data is currently being scraped, and this information does not reflect the whole dataset.\n",
    "\n",
    "The dataset is still currently being collected, and it is still actively being collected, however, these are some of the interesting points about the data, as of 4th August, 2019 at 12:04 AM while I'm busy supposed to resting while at the Griffith Library Hackathon...\n",
    "\n",
    "* We have crawed through 32 whole Reddit profiles, including [myself](https://reddit.com/user/aytimothy).\n",
    "* We have processed 233,390 comments and 2,862 submissions after 90,616 seconds (1 day, 10 hours, and 10 minutes and 16 seconds)\n",
    "* The [third best submission](https://redd.it/5gafop) was a [Rick Roll](https://youtu.be/dQw4w9WgXcQ).\n",
    "* The Subreddit with the most submissions was [/r/vzla](https://reddit.com/r/vzla).\n",
    "* The User with the most submissions was [/u/AllGamer](https://reddit.com/u/AllGamer). I have 27, though that is probably biased because we haven't processed enough Redditors yet.\n",
    "* The user with the most comments was [/u/AutoModerator](https://reddit.com/u/AutoModerator) with 252 comments. As for actual users, that was a two-way tie between [/u/shadydeath999](https://reddit.com/u/shadydeath999) and [/u/Roastroach](https://reddit.com/u/Roastroach) with 209 comments each.\n",
    "* 10,138 comments and 134 submissions were by deleted users.\n",
    "\n",
    "|Field|Min|Q1|Median|Q3|Max|Average|\n",
    "|-----|---|--|------|--|---|-------|\n",
    "|Comment Score|-303|?|?|?|58,234|89.9484|\n",
    "|Submission Score|0|?|?|?|144,129|3042|\n",
    "|User Comment Count|0|?|?|?|252|?|\n",
    "|User Submission Count|0|?|?|?|95|?|"
   ]
  },
  {
   "cell_type": "markdown",
   "metadata": {},
   "source": [
    "----"
   ]
  },
  {
   "cell_type": "markdown",
   "metadata": {},
   "source": [
    "[1] Original Research: Older audiences of both franchises (the 1999 to 2003 demographic who were ages 6 to 18 at the time, or parents) are aware of each other due to the virtual pet and early toy gatcha market. This later spread down the line towards the current younger generation (these people are now in their late teens to adulthood as of 2019).  \n",
    "[2] [https://www.reddit.com/wiki/api](https://www.reddit.com/wiki/api)"
   ]
  }
 ],
 "metadata": {
  "kernelspec": {
   "display_name": "Python 3",
   "language": "python",
   "name": "python3"
  },
  "language_info": {
   "codemirror_mode": {
    "name": "ipython",
    "version": 3
   },
   "file_extension": ".py",
   "mimetype": "text/x-python",
   "name": "python",
   "nbconvert_exporter": "python",
   "pygments_lexer": "ipython3",
   "version": "3.7.3"
  }
 },
 "nbformat": 4,
 "nbformat_minor": 2
}
